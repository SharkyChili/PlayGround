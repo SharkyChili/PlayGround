{
 "cells": [
  {
   "cell_type": "markdown",
   "metadata": {},
   "source": [
    "#椭圆机是否真的是椭圆之皮一下很开心"
   ]
  },
  {
   "cell_type": "markdown",
   "metadata": {},
   "source": [
    "最近试了下椭圆机，第一感觉就是，这不就是个平面四杆机构吗？好像记得在网上见过“因为运动轨迹是椭圆所以叫椭圆机”的说法，其实这个问题，用机械的知识就可以很好的解答，可惜本人是个机械学渣，但是又好奇，因为决定拿编程尝试一下，顺便练练手，这种方式其实不科学，不可取，就是纯粹皮一下。\n",
    "\n",
    "至于语言，肯定是python，不用解释。"
   ]
  },
  {
   "cell_type": "markdown",
   "metadata": {},
   "source": [
    "##平面四杆机构\n",
    "复习一下平面四杆机构\n",
    "能绕固定轴心作 360°回转的连杆，称为曲柄；而能绕固定轴心作摇摆运动的连杆，称为摇杆。用来连接曲柄或摇杆的连杆，而传达相互间的运动，称为连接杆.\n",
    "\n",
    "下图四种平面四杆机构的区别是：\n",
    "1.双曲柄\n",
    "2.曲柄+摇杆\n",
    "3.双摇杆\n",
    "4.双曲柄"
   ]
  },
  {
   "cell_type": "markdown",
   "metadata": {},
   "source": [
    "![title](img/1.png)"
   ]
  },
  {
   "cell_type": "markdown",
   "metadata": {},
   "source": [
    "百度椭圆机可以看到，椭圆机结构有很多种，这里我们只选取符合平面四杆机构的一种进行模拟。"
   ]
  },
  {
   "cell_type": "markdown",
   "metadata": {},
   "source": [
    "![title](img/2.png)"
   ]
  },
  {
   "cell_type": "markdown",
   "metadata": {},
   "source": [
    "###猜想\n",
    "1：全部种类的平面四杆机构的连接杆上的点的运动轨迹为椭圆。\n",
    "    \n",
    "2：所有曲柄摇杆机构的连接杆上的点的运动轨迹为椭圆。\n",
    "  \n",
    "3：曲柄摇杆机构中，参数经过仔细设计，连接杆上的点的运动轨迹才是椭圆。"
   ]
  },
  {
   "cell_type": "markdown",
   "metadata": {},
   "source": [
    "## 参数设置\n",
    "我们先定义好点及杆的符号，如下图所示\n",
    "\n",
    "点分别为abcde，杆分别为R1、R2、M、N"
   ]
  },
  {
   "cell_type": "markdown",
   "metadata": {},
   "source": [
    "![title](img/3.png)"
   ]
  },
  {
   "cell_type": "markdown",
   "metadata": {},
   "source": [
    "### 设置C点半径等\n",
    "### 求b点轨迹\n",
    "### 求cb中间e点的轨迹"
   ]
  },
  {
   "cell_type": "markdown",
   "metadata": {},
   "source": [
    "## 开始尝试\n",
    "### 直接假设他是椭圆，用PCA来解决，来逼近\n",
    "### 假设不知道，用神经网络来解决"
   ]
  },
  {
   "cell_type": "code",
   "execution_count": null,
   "metadata": {
    "collapsed": true
   },
   "outputs": [],
   "source": []
  }
 ],
 "metadata": {
  "kernelspec": {
   "display_name": "Python 2",
   "language": "python",
   "name": "python2"
  },
  "language_info": {
   "codemirror_mode": {
    "name": "ipython",
    "version": 2
   },
   "file_extension": ".py",
   "mimetype": "text/x-python",
   "name": "python",
   "nbconvert_exporter": "python",
   "pygments_lexer": "ipython2",
   "version": "2.7.10"
  }
 },
 "nbformat": 4,
 "nbformat_minor": 0
}
